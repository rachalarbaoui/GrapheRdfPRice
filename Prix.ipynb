{
  "nbformat": 4,
  "nbformat_minor": 0,
  "metadata": {
    "colab": {
      "name": "Prix.ipynb",
      "provenance": []
    },
    "kernelspec": {
      "name": "python3",
      "display_name": "Python 3"
    },
    "language_info": {
      "name": "python"
    }
  },
  "cells": [
    {
      "cell_type": "code",
      "metadata": {
        "colab": {
          "base_uri": "https://localhost:8080/"
        },
        "id": "0WrHQzQHlfJ6",
        "outputId": "6ba915ec-5fc2-4792-bfcd-37f608932e79"
      },
      "source": [
        "#installation de la bibliothéque rdflib \n",
        "!pip install rdflib\n"
      ],
      "execution_count": 1,
      "outputs": [
        {
          "output_type": "stream",
          "text": [
            "Collecting rdflib\n",
            "\u001b[?25l  Downloading https://files.pythonhosted.org/packages/d0/6b/6454aa1db753c0f8bc265a5bd5c10b5721a4bb24160fb4faf758cf6be8a1/rdflib-5.0.0-py3-none-any.whl (231kB)\n",
            "\r\u001b[K     |█▍                              | 10kB 16.0MB/s eta 0:00:01\r\u001b[K     |██▉                             | 20kB 21.4MB/s eta 0:00:01\r\u001b[K     |████▎                           | 30kB 23.7MB/s eta 0:00:01\r\u001b[K     |█████▊                          | 40kB 26.1MB/s eta 0:00:01\r\u001b[K     |███████                         | 51kB 28.4MB/s eta 0:00:01\r\u001b[K     |████████▌                       | 61kB 26.1MB/s eta 0:00:01\r\u001b[K     |██████████                      | 71kB 26.8MB/s eta 0:00:01\r\u001b[K     |███████████▍                    | 81kB 26.9MB/s eta 0:00:01\r\u001b[K     |████████████▊                   | 92kB 27.7MB/s eta 0:00:01\r\u001b[K     |██████████████▏                 | 102kB 27.7MB/s eta 0:00:01\r\u001b[K     |███████████████▋                | 112kB 27.7MB/s eta 0:00:01\r\u001b[K     |█████████████████               | 122kB 27.7MB/s eta 0:00:01\r\u001b[K     |██████████████████▍             | 133kB 27.7MB/s eta 0:00:01\r\u001b[K     |███████████████████▉            | 143kB 27.7MB/s eta 0:00:01\r\u001b[K     |█████████████████████▎          | 153kB 27.7MB/s eta 0:00:01\r\u001b[K     |██████████████████████▊         | 163kB 27.7MB/s eta 0:00:01\r\u001b[K     |████████████████████████        | 174kB 27.7MB/s eta 0:00:01\r\u001b[K     |█████████████████████████▌      | 184kB 27.7MB/s eta 0:00:01\r\u001b[K     |███████████████████████████     | 194kB 27.7MB/s eta 0:00:01\r\u001b[K     |████████████████████████████▍   | 204kB 27.7MB/s eta 0:00:01\r\u001b[K     |█████████████████████████████▉  | 215kB 27.7MB/s eta 0:00:01\r\u001b[K     |███████████████████████████████▏| 225kB 27.7MB/s eta 0:00:01\r\u001b[K     |████████████████████████████████| 235kB 27.7MB/s \n",
            "\u001b[?25hRequirement already satisfied: six in /usr/local/lib/python3.7/dist-packages (from rdflib) (1.15.0)\n",
            "Collecting isodate\n",
            "\u001b[?25l  Downloading https://files.pythonhosted.org/packages/9b/9f/b36f7774ff5ea8e428fdcfc4bb332c39ee5b9362ddd3d40d9516a55221b2/isodate-0.6.0-py2.py3-none-any.whl (45kB)\n",
            "\u001b[K     |████████████████████████████████| 51kB 7.5MB/s \n",
            "\u001b[?25hRequirement already satisfied: pyparsing in /usr/local/lib/python3.7/dist-packages (from rdflib) (2.4.7)\n",
            "Installing collected packages: isodate, rdflib\n",
            "Successfully installed isodate-0.6.0 rdflib-5.0.0\n"
          ],
          "name": "stdout"
        }
      ]
    },
    {
      "cell_type": "code",
      "metadata": {
        "colab": {
          "base_uri": "https://localhost:8080/"
        },
        "id": "Tq4ReEPFlruU",
        "outputId": "6908a7df-1471-45a0-8a7b-dfc7465d748d"
      },
      "source": [
        "from rdflib import Graph, Literal, RDF, URIRef\n",
        "from rdflib.namespace import FOAF , XSD\n",
        "g = Graph()\n",
        "PRICE = URIRef(\"http://dbpedia.org/resource/Price\")\n",
        "\n",
        "\n",
        "from rdflib import Graph, Literal, RDF, URIRef,DCTERMS\n",
        "from rdflib.namespace import FOAF , XSD\n",
        "g = Graph()\n",
        "PRICE = URIRef(\"http://dbpedia.org/resource/Price\")\n",
        "\n",
        "\n",
        "g.add((PRICE, DCTERMS['Devided'],  Literal(\"PRice[96,150]\")))\n",
        "g.add((PRICE, DCTERMS['Devided'], Literal(\"price[151,200]\")))\n",
        "g.add((PRICE, DCTERMS['Devided'], Literal(\"price[201,250]\")))\n",
        "g.add((PRICE, DCTERMS['Devided'], Literal(\"price[251,310]\")))\n",
        "\n",
        "print(\"--- Mon triplet est composé de : ---\")\n",
        "for s, p, o in g:\n",
        "    print((s, p, o))\n",
        "#Voir mon graphe RDF qui est composé en un seul triplet sous format turtle \n",
        "print(g.serialize(format='n3').decode(\"utf-8\"))"
      ],
      "execution_count": 2,
      "outputs": [
        {
          "output_type": "stream",
          "text": [
            "--- Mon triplet est composé de : ---\n",
            "(rdflib.term.URIRef('http://dbpedia.org/resource/Price'), rdflib.term.URIRef('http://purl.org/dc/terms/Devided'), rdflib.term.Literal('price[251,310]'))\n",
            "(rdflib.term.URIRef('http://dbpedia.org/resource/Price'), rdflib.term.URIRef('http://purl.org/dc/terms/Devided'), rdflib.term.Literal('price[201,250]'))\n",
            "(rdflib.term.URIRef('http://dbpedia.org/resource/Price'), rdflib.term.URIRef('http://purl.org/dc/terms/Devided'), rdflib.term.Literal('price[151,200]'))\n",
            "(rdflib.term.URIRef('http://dbpedia.org/resource/Price'), rdflib.term.URIRef('http://purl.org/dc/terms/Devided'), rdflib.term.Literal('PRice[96,150]'))\n",
            "@prefix ns1: <http://purl.org/dc/terms/> .\n",
            "\n",
            "<http://dbpedia.org/resource/Price> ns1:Devided \"PRice[96,150]\",\n",
            "        \"price[151,200]\",\n",
            "        \"price[201,250]\",\n",
            "        \"price[251,310]\" .\n",
            "\n",
            "\n"
          ],
          "name": "stdout"
        }
      ]
    },
    {
      "cell_type": "code",
      "metadata": {
        "id": "Z4exxOxNl0t9"
      },
      "source": [
        "import rdflib\n",
        "from rdflib.extras.external_graph_libs import rdflib_to_networkx_multidigraph\n",
        "import networkx as nx\n",
        "import matplotlib.pyplot as plt\n",
        "from rdflib import Graph, Literal, RDF, URIRef,DCTERMS\n",
        "from rdflib.namespace import FOAF , XSD\n",
        "\n",
        "\n",
        "G = rdflib_to_networkx_multidigraph(g)"
      ],
      "execution_count": 4,
      "outputs": []
    },
    {
      "cell_type": "code",
      "metadata": {
        "colab": {
          "base_uri": "https://localhost:8080/",
          "height": 248
        },
        "id": "OVuiSY0Pl7Uq",
        "outputId": "8ac79903-7768-423a-8a93-dbf2313a402a"
      },
      "source": [
        "# Plot Networkx instance of RDF Graph\n",
        "pos = nx.spring_layout(G, scale=100)\n",
        "edge_labels = nx.get_edge_attributes(G, 'r')\n",
        "nx.draw_networkx_edge_labels(G, pos, edge_labels=edge_labels)\n",
        "nx.draw(G, with_labels=True)\n",
        "\n",
        "#if not in interactive mode for \n",
        "plt.show()"
      ],
      "execution_count": 5,
      "outputs": [
        {
          "output_type": "display_data",
          "data": {
            "image/png": "[encoded data removed]",
            "text/plain": [
              "<Figure size 432x288 with 1 Axes>"
            ]
          },
          "metadata": {
            "tags": []
          }
        }
      ]
    }
  ]
}